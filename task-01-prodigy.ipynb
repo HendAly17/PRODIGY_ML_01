{
 "cells": [
  {
   "cell_type": "code",
   "execution_count": 1,
   "id": "df39ffe9",
   "metadata": {
    "_cell_guid": "b1076dfc-b9ad-4769-8c92-a6c4dae69d19",
    "_uuid": "8f2839f25d086af736a60e9eeb907d3b93b6e0e5",
    "execution": {
     "iopub.execute_input": "2024-06-28T09:56:45.752192Z",
     "iopub.status.busy": "2024-06-28T09:56:45.751794Z",
     "iopub.status.idle": "2024-06-28T09:56:46.603897Z",
     "shell.execute_reply": "2024-06-28T09:56:46.603041Z"
    },
    "papermill": {
     "duration": 0.862026,
     "end_time": "2024-06-28T09:56:46.606451",
     "exception": false,
     "start_time": "2024-06-28T09:56:45.744425",
     "status": "completed"
    },
    "tags": []
   },
   "outputs": [],
   "source": [
    "import pandas as pd"
   ]
  },
  {
   "cell_type": "code",
   "execution_count": 2,
   "id": "cf80570c",
   "metadata": {
    "execution": {
     "iopub.execute_input": "2024-06-28T09:56:46.619376Z",
     "iopub.status.busy": "2024-06-28T09:56:46.618906Z",
     "iopub.status.idle": "2024-06-28T09:56:46.695611Z",
     "shell.execute_reply": "2024-06-28T09:56:46.694698Z"
    },
    "papermill": {
     "duration": 0.08594,
     "end_time": "2024-06-28T09:56:46.698271",
     "exception": false,
     "start_time": "2024-06-28T09:56:46.612331",
     "status": "completed"
    },
    "tags": []
   },
   "outputs": [],
   "source": [
    "# Load the data\n",
    "train_data = pd.read_csv('/kaggle/input/house-prices-advanced-regression-techniques/train.csv')\n",
    "test_data = pd.read_csv('/kaggle/input/house-prices-advanced-regression-techniques/test.csv')"
   ]
  },
  {
   "cell_type": "code",
   "execution_count": 3,
   "id": "c69367ba",
   "metadata": {
    "execution": {
     "iopub.execute_input": "2024-06-28T09:56:46.710978Z",
     "iopub.status.busy": "2024-06-28T09:56:46.710597Z",
     "iopub.status.idle": "2024-06-28T09:56:46.721587Z",
     "shell.execute_reply": "2024-06-28T09:56:46.720579Z"
    },
    "papermill": {
     "duration": 0.020032,
     "end_time": "2024-06-28T09:56:46.724019",
     "exception": false,
     "start_time": "2024-06-28T09:56:46.703987",
     "status": "completed"
    },
    "tags": []
   },
   "outputs": [],
   "source": [
    "submission_template = pd.read_csv('/kaggle/input/house-prices-advanced-regression-techniques/sample_submission.csv')"
   ]
  },
  {
   "cell_type": "code",
   "execution_count": 4,
   "id": "a438ccc8",
   "metadata": {
    "execution": {
     "iopub.execute_input": "2024-06-28T09:56:46.736758Z",
     "iopub.status.busy": "2024-06-28T09:56:46.736144Z",
     "iopub.status.idle": "2024-06-28T09:56:46.763380Z",
     "shell.execute_reply": "2024-06-28T09:56:46.762367Z"
    },
    "papermill": {
     "duration": 0.036883,
     "end_time": "2024-06-28T09:56:46.766577",
     "exception": false,
     "start_time": "2024-06-28T09:56:46.729694",
     "status": "completed"
    },
    "tags": []
   },
   "outputs": [
    {
     "name": "stdout",
     "output_type": "stream",
     "text": [
      "   Id  MSSubClass MSZoning  LotFrontage  LotArea Street Alley LotShape  \\\n",
      "0   1          60       RL         65.0     8450   Pave   NaN      Reg   \n",
      "1   2          20       RL         80.0     9600   Pave   NaN      Reg   \n",
      "2   3          60       RL         68.0    11250   Pave   NaN      IR1   \n",
      "3   4          70       RL         60.0     9550   Pave   NaN      IR1   \n",
      "4   5          60       RL         84.0    14260   Pave   NaN      IR1   \n",
      "\n",
      "  LandContour Utilities  ... PoolArea PoolQC Fence MiscFeature MiscVal MoSold  \\\n",
      "0         Lvl    AllPub  ...        0    NaN   NaN         NaN       0      2   \n",
      "1         Lvl    AllPub  ...        0    NaN   NaN         NaN       0      5   \n",
      "2         Lvl    AllPub  ...        0    NaN   NaN         NaN       0      9   \n",
      "3         Lvl    AllPub  ...        0    NaN   NaN         NaN       0      2   \n",
      "4         Lvl    AllPub  ...        0    NaN   NaN         NaN       0     12   \n",
      "\n",
      "  YrSold  SaleType  SaleCondition  SalePrice  \n",
      "0   2008        WD         Normal     208500  \n",
      "1   2007        WD         Normal     181500  \n",
      "2   2008        WD         Normal     223500  \n",
      "3   2006        WD        Abnorml     140000  \n",
      "4   2008        WD         Normal     250000  \n",
      "\n",
      "[5 rows x 81 columns]\n"
     ]
    }
   ],
   "source": [
    "print(train_data.head())"
   ]
  },
  {
   "cell_type": "code",
   "execution_count": 5,
   "id": "0e92807d",
   "metadata": {
    "execution": {
     "iopub.execute_input": "2024-06-28T09:56:46.779575Z",
     "iopub.status.busy": "2024-06-28T09:56:46.779218Z",
     "iopub.status.idle": "2024-06-28T09:56:46.783714Z",
     "shell.execute_reply": "2024-06-28T09:56:46.782780Z"
    },
    "papermill": {
     "duration": 0.013467,
     "end_time": "2024-06-28T09:56:46.785969",
     "exception": false,
     "start_time": "2024-06-28T09:56:46.772502",
     "status": "completed"
    },
    "tags": []
   },
   "outputs": [],
   "source": [
    "features = ['GrLivArea', 'BedroomAbvGr', 'FullBath']\n",
    "target = 'SalePrice'"
   ]
  },
  {
   "cell_type": "code",
   "execution_count": 6,
   "id": "f2c39093",
   "metadata": {
    "execution": {
     "iopub.execute_input": "2024-06-28T09:56:46.798601Z",
     "iopub.status.busy": "2024-06-28T09:56:46.798282Z",
     "iopub.status.idle": "2024-06-28T09:56:46.806254Z",
     "shell.execute_reply": "2024-06-28T09:56:46.805120Z"
    },
    "papermill": {
     "duration": 0.016852,
     "end_time": "2024-06-28T09:56:46.808467",
     "exception": false,
     "start_time": "2024-06-28T09:56:46.791615",
     "status": "completed"
    },
    "tags": []
   },
   "outputs": [
    {
     "name": "stdout",
     "output_type": "stream",
     "text": [
      "GrLivArea       0\n",
      "BedroomAbvGr    0\n",
      "FullBath        0\n",
      "SalePrice       0\n",
      "dtype: int64\n"
     ]
    }
   ],
   "source": [
    "print(train_data[features + [target]].isnull().sum())"
   ]
  },
  {
   "cell_type": "code",
   "execution_count": 7,
   "id": "fa09370e",
   "metadata": {
    "execution": {
     "iopub.execute_input": "2024-06-28T09:56:46.821310Z",
     "iopub.status.busy": "2024-06-28T09:56:46.820981Z",
     "iopub.status.idle": "2024-06-28T09:56:46.834968Z",
     "shell.execute_reply": "2024-06-28T09:56:46.834178Z"
    },
    "papermill": {
     "duration": 0.023227,
     "end_time": "2024-06-28T09:56:46.837407",
     "exception": false,
     "start_time": "2024-06-28T09:56:46.814180",
     "status": "completed"
    },
    "tags": []
   },
   "outputs": [],
   "source": [
    "# Fill missing values with median (if any)\n",
    "train_data[features] = train_data[features].fillna(train_data[features].median())\n",
    "test_data[features] = test_data[features].fillna(test_data[features].median())"
   ]
  },
  {
   "cell_type": "code",
   "execution_count": 8,
   "id": "cdb9f3ec",
   "metadata": {
    "execution": {
     "iopub.execute_input": "2024-06-28T09:56:46.850605Z",
     "iopub.status.busy": "2024-06-28T09:56:46.850240Z",
     "iopub.status.idle": "2024-06-28T09:56:48.101609Z",
     "shell.execute_reply": "2024-06-28T09:56:48.100759Z"
    },
    "papermill": {
     "duration": 1.260978,
     "end_time": "2024-06-28T09:56:48.104198",
     "exception": false,
     "start_time": "2024-06-28T09:56:46.843220",
     "status": "completed"
    },
    "tags": []
   },
   "outputs": [],
   "source": [
    "from sklearn.model_selection import train_test_split"
   ]
  },
  {
   "cell_type": "code",
   "execution_count": 9,
   "id": "705d3dd9",
   "metadata": {
    "execution": {
     "iopub.execute_input": "2024-06-28T09:56:48.119336Z",
     "iopub.status.busy": "2024-06-28T09:56:48.118492Z",
     "iopub.status.idle": "2024-06-28T09:56:48.128514Z",
     "shell.execute_reply": "2024-06-28T09:56:48.127683Z"
    },
    "papermill": {
     "duration": 0.019279,
     "end_time": "2024-06-28T09:56:48.130783",
     "exception": false,
     "start_time": "2024-06-28T09:56:48.111504",
     "status": "completed"
    },
    "tags": []
   },
   "outputs": [],
   "source": [
    "X = train_data[features]\n",
    "y = train_data[target]\n",
    "X_train, X_val, y_train, y_val = train_test_split(X, y, test_size=0.2, random_state=42)"
   ]
  },
  {
   "cell_type": "code",
   "execution_count": 10,
   "id": "23ad063a",
   "metadata": {
    "execution": {
     "iopub.execute_input": "2024-06-28T09:56:48.143618Z",
     "iopub.status.busy": "2024-06-28T09:56:48.143275Z",
     "iopub.status.idle": "2024-06-28T09:56:48.232781Z",
     "shell.execute_reply": "2024-06-28T09:56:48.231914Z"
    },
    "papermill": {
     "duration": 0.098933,
     "end_time": "2024-06-28T09:56:48.235466",
     "exception": false,
     "start_time": "2024-06-28T09:56:48.136533",
     "status": "completed"
    },
    "tags": []
   },
   "outputs": [],
   "source": [
    "from sklearn.linear_model import LinearRegression\n",
    "from sklearn.metrics import mean_squared_error"
   ]
  },
  {
   "cell_type": "code",
   "execution_count": 11,
   "id": "10e80eb7",
   "metadata": {
    "execution": {
     "iopub.execute_input": "2024-06-28T09:56:48.248372Z",
     "iopub.status.busy": "2024-06-28T09:56:48.248014Z",
     "iopub.status.idle": "2024-06-28T09:56:48.277553Z",
     "shell.execute_reply": "2024-06-28T09:56:48.276525Z"
    },
    "papermill": {
     "duration": 0.038632,
     "end_time": "2024-06-28T09:56:48.279889",
     "exception": false,
     "start_time": "2024-06-28T09:56:48.241257",
     "status": "completed"
    },
    "tags": []
   },
   "outputs": [
    {
     "data": {
      "text/html": [
       "<style>#sk-container-id-1 {color: black;background-color: white;}#sk-container-id-1 pre{padding: 0;}#sk-container-id-1 div.sk-toggleable {background-color: white;}#sk-container-id-1 label.sk-toggleable__label {cursor: pointer;display: block;width: 100%;margin-bottom: 0;padding: 0.3em;box-sizing: border-box;text-align: center;}#sk-container-id-1 label.sk-toggleable__label-arrow:before {content: \"▸\";float: left;margin-right: 0.25em;color: #696969;}#sk-container-id-1 label.sk-toggleable__label-arrow:hover:before {color: black;}#sk-container-id-1 div.sk-estimator:hover label.sk-toggleable__label-arrow:before {color: black;}#sk-container-id-1 div.sk-toggleable__content {max-height: 0;max-width: 0;overflow: hidden;text-align: left;background-color: #f0f8ff;}#sk-container-id-1 div.sk-toggleable__content pre {margin: 0.2em;color: black;border-radius: 0.25em;background-color: #f0f8ff;}#sk-container-id-1 input.sk-toggleable__control:checked~div.sk-toggleable__content {max-height: 200px;max-width: 100%;overflow: auto;}#sk-container-id-1 input.sk-toggleable__control:checked~label.sk-toggleable__label-arrow:before {content: \"▾\";}#sk-container-id-1 div.sk-estimator input.sk-toggleable__control:checked~label.sk-toggleable__label {background-color: #d4ebff;}#sk-container-id-1 div.sk-label input.sk-toggleable__control:checked~label.sk-toggleable__label {background-color: #d4ebff;}#sk-container-id-1 input.sk-hidden--visually {border: 0;clip: rect(1px 1px 1px 1px);clip: rect(1px, 1px, 1px, 1px);height: 1px;margin: -1px;overflow: hidden;padding: 0;position: absolute;width: 1px;}#sk-container-id-1 div.sk-estimator {font-family: monospace;background-color: #f0f8ff;border: 1px dotted black;border-radius: 0.25em;box-sizing: border-box;margin-bottom: 0.5em;}#sk-container-id-1 div.sk-estimator:hover {background-color: #d4ebff;}#sk-container-id-1 div.sk-parallel-item::after {content: \"\";width: 100%;border-bottom: 1px solid gray;flex-grow: 1;}#sk-container-id-1 div.sk-label:hover label.sk-toggleable__label {background-color: #d4ebff;}#sk-container-id-1 div.sk-serial::before {content: \"\";position: absolute;border-left: 1px solid gray;box-sizing: border-box;top: 0;bottom: 0;left: 50%;z-index: 0;}#sk-container-id-1 div.sk-serial {display: flex;flex-direction: column;align-items: center;background-color: white;padding-right: 0.2em;padding-left: 0.2em;position: relative;}#sk-container-id-1 div.sk-item {position: relative;z-index: 1;}#sk-container-id-1 div.sk-parallel {display: flex;align-items: stretch;justify-content: center;background-color: white;position: relative;}#sk-container-id-1 div.sk-item::before, #sk-container-id-1 div.sk-parallel-item::before {content: \"\";position: absolute;border-left: 1px solid gray;box-sizing: border-box;top: 0;bottom: 0;left: 50%;z-index: -1;}#sk-container-id-1 div.sk-parallel-item {display: flex;flex-direction: column;z-index: 1;position: relative;background-color: white;}#sk-container-id-1 div.sk-parallel-item:first-child::after {align-self: flex-end;width: 50%;}#sk-container-id-1 div.sk-parallel-item:last-child::after {align-self: flex-start;width: 50%;}#sk-container-id-1 div.sk-parallel-item:only-child::after {width: 0;}#sk-container-id-1 div.sk-dashed-wrapped {border: 1px dashed gray;margin: 0 0.4em 0.5em 0.4em;box-sizing: border-box;padding-bottom: 0.4em;background-color: white;}#sk-container-id-1 div.sk-label label {font-family: monospace;font-weight: bold;display: inline-block;line-height: 1.2em;}#sk-container-id-1 div.sk-label-container {text-align: center;}#sk-container-id-1 div.sk-container {/* jupyter's `normalize.less` sets `[hidden] { display: none; }` but bootstrap.min.css set `[hidden] { display: none !important; }` so we also need the `!important` here to be able to override the default hidden behavior on the sphinx rendered scikit-learn.org. See: https://github.com/scikit-learn/scikit-learn/issues/21755 */display: inline-block !important;position: relative;}#sk-container-id-1 div.sk-text-repr-fallback {display: none;}</style><div id=\"sk-container-id-1\" class=\"sk-top-container\"><div class=\"sk-text-repr-fallback\"><pre>LinearRegression()</pre><b>In a Jupyter environment, please rerun this cell to show the HTML representation or trust the notebook. <br />On GitHub, the HTML representation is unable to render, please try loading this page with nbviewer.org.</b></div><div class=\"sk-container\" hidden><div class=\"sk-item\"><div class=\"sk-estimator sk-toggleable\"><input class=\"sk-toggleable__control sk-hidden--visually\" id=\"sk-estimator-id-1\" type=\"checkbox\" checked><label for=\"sk-estimator-id-1\" class=\"sk-toggleable__label sk-toggleable__label-arrow\">LinearRegression</label><div class=\"sk-toggleable__content\"><pre>LinearRegression()</pre></div></div></div></div></div>"
      ],
      "text/plain": [
       "LinearRegression()"
      ]
     },
     "execution_count": 11,
     "metadata": {},
     "output_type": "execute_result"
    }
   ],
   "source": [
    "# Initialize and train the linear regression model\n",
    "model = LinearRegression()\n",
    "model.fit(X_train, y_train)"
   ]
  },
  {
   "cell_type": "code",
   "execution_count": 12,
   "id": "4a995633",
   "metadata": {
    "execution": {
     "iopub.execute_input": "2024-06-28T09:56:48.293730Z",
     "iopub.status.busy": "2024-06-28T09:56:48.293395Z",
     "iopub.status.idle": "2024-06-28T09:56:48.301287Z",
     "shell.execute_reply": "2024-06-28T09:56:48.300320Z"
    },
    "papermill": {
     "duration": 0.017327,
     "end_time": "2024-06-28T09:56:48.303577",
     "exception": false,
     "start_time": "2024-06-28T09:56:48.286250",
     "status": "completed"
    },
    "tags": []
   },
   "outputs": [
    {
     "name": "stdout",
     "output_type": "stream",
     "text": [
      "Validation RMSE: 52975.71771338122\n"
     ]
    }
   ],
   "source": [
    "# Evaluate the model\n",
    "y_val_pred = model.predict(X_val)\n",
    "mse = mean_squared_error(y_val, y_val_pred)\n",
    "rmse = mse ** 0.5\n",
    "print(f'Validation RMSE: {rmse}')"
   ]
  },
  {
   "cell_type": "code",
   "execution_count": 13,
   "id": "cfc5d57e",
   "metadata": {
    "execution": {
     "iopub.execute_input": "2024-06-28T09:56:48.317082Z",
     "iopub.status.busy": "2024-06-28T09:56:48.316387Z",
     "iopub.status.idle": "2024-06-28T09:56:48.323474Z",
     "shell.execute_reply": "2024-06-28T09:56:48.322570Z"
    },
    "papermill": {
     "duration": 0.016065,
     "end_time": "2024-06-28T09:56:48.325551",
     "exception": false,
     "start_time": "2024-06-28T09:56:48.309486",
     "status": "completed"
    },
    "tags": []
   },
   "outputs": [],
   "source": [
    "# Make predictions on the test set\n",
    "test_predictions = model.predict(test_data[features])"
   ]
  },
  {
   "cell_type": "code",
   "execution_count": 14,
   "id": "035b6b7a",
   "metadata": {
    "execution": {
     "iopub.execute_input": "2024-06-28T09:56:48.338797Z",
     "iopub.status.busy": "2024-06-28T09:56:48.338498Z",
     "iopub.status.idle": "2024-06-28T09:56:48.343222Z",
     "shell.execute_reply": "2024-06-28T09:56:48.342317Z"
    },
    "papermill": {
     "duration": 0.013852,
     "end_time": "2024-06-28T09:56:48.345443",
     "exception": false,
     "start_time": "2024-06-28T09:56:48.331591",
     "status": "completed"
    },
    "tags": []
   },
   "outputs": [],
   "source": [
    "submission_template['SalePrice'] = test_predictions"
   ]
  },
  {
   "cell_type": "code",
   "execution_count": 15,
   "id": "445427a1",
   "metadata": {
    "execution": {
     "iopub.execute_input": "2024-06-28T09:56:48.358958Z",
     "iopub.status.busy": "2024-06-28T09:56:48.358633Z",
     "iopub.status.idle": "2024-06-28T09:56:48.370268Z",
     "shell.execute_reply": "2024-06-28T09:56:48.369404Z"
    },
    "papermill": {
     "duration": 0.02081,
     "end_time": "2024-06-28T09:56:48.372494",
     "exception": false,
     "start_time": "2024-06-28T09:56:48.351684",
     "status": "completed"
    },
    "tags": []
   },
   "outputs": [],
   "source": [
    "submission_template.to_csv('/kaggle/working/submission.csv', index=False)"
   ]
  }
 ],
 "metadata": {
  "kaggle": {
   "accelerator": "none",
   "dataSources": [
    {
     "databundleVersionId": 868283,
     "sourceId": 5407,
     "sourceType": "competition"
    }
   ],
   "dockerImageVersionId": 30732,
   "isGpuEnabled": false,
   "isInternetEnabled": false,
   "language": "python",
   "sourceType": "notebook"
  },
  "kernelspec": {
   "display_name": "Python 3",
   "language": "python",
   "name": "python3"
  },
  "language_info": {
   "codemirror_mode": {
    "name": "ipython",
    "version": 3
   },
   "file_extension": ".py",
   "mimetype": "text/x-python",
   "name": "python",
   "nbconvert_exporter": "python",
   "pygments_lexer": "ipython3",
   "version": "3.10.13"
  },
  "papermill": {
   "default_parameters": {},
   "duration": 6.019031,
   "end_time": "2024-06-28T09:56:48.897566",
   "environment_variables": {},
   "exception": null,
   "input_path": "__notebook__.ipynb",
   "output_path": "__notebook__.ipynb",
   "parameters": {},
   "start_time": "2024-06-28T09:56:42.878535",
   "version": "2.5.0"
  }
 },
 "nbformat": 4,
 "nbformat_minor": 5
}
